{
  "nbformat": 4,
  "nbformat_minor": 0,
  "metadata": {
    "colab": {
      "provenance": [],
      "authorship_tag": "ABX9TyMTfZpjiUUiILWG6AwPLOk0",
      "include_colab_link": true
    },
    "kernelspec": {
      "name": "python3",
      "display_name": "Python 3"
    },
    "language_info": {
      "name": "python"
    }
  },
  "cells": [
    {
      "cell_type": "markdown",
      "metadata": {
        "id": "view-in-github",
        "colab_type": "text"
      },
      "source": [
        "<a href=\"https://colab.research.google.com/github/ZIVfirka/Pr-Creative-2/blob/main/PR_creative_2_%E2%84%962.ipynb\" target=\"_parent\"><img src=\"https://colab.research.google.com/assets/colab-badge.svg\" alt=\"Open In Colab\"/></a>"
      ]
    },
    {
      "cell_type": "markdown",
      "source": [
        "***Сломанная машина времени и телефонная книга.***\n",
        "\n",
        "\n",
        "---\n",
        "\n",
        "\n",
        "\n",
        "---\n",
        "\n"
      ],
      "metadata": {
        "id": "XmAK9Wt3fQZG"
      }
    },
    {
      "cell_type": "markdown",
      "source": [
        "Представте себе, что Вы попали в 1985 год, использовав сломанную машину времени, и Вам нужно позвонить старому учёному, который владел тем устройством и, к счастью, изобрёл его именно в 1985. К сожалению, Вы не знаете какой у него номер телефона, но помните, что его зовут N S (N - имя, S - фамилия), поэтому Вы пошли в ближайшее справочное бюро, чтобы воспользоваться телефонной книгой. Также Вы решили запомнить номер телефона того учёного на всякий случай, для этого Вам надо сказать \"Профессор S\" и его номер телефона."
      ],
      "metadata": {
        "id": "Z3yX0IuwdOi-"
      }
    },
    {
      "cell_type": "markdown",
      "source": [
        "Напишите программу, выводящую то, как Вы запомните номер телефона старого учёного."
      ],
      "metadata": {
        "id": "caT6cFHQlThL"
      }
    },
    {
      "cell_type": "markdown",
      "source": [
        "**Ввод:** В первой строке на вход даётся число людей в телефонной книге X, во второй - имя и фамилия учёного в таком порядке через пробел, далее - в X строках X полных имён людей и через \"-\" их номер телефона по одному имени и номеру телефона в строке.\n",
        "\n",
        "*Огрничение:* В телефонной книге нет полных тёсок.\n",
        "\n",
        "*(Под полным именем подразумеваеся имя и фамилия человека)*\n",
        "\n",
        "**Вывод:**\n",
        "\n",
        "Ответ на задачу в формате \"Профессор S - номер телефона\"."
      ],
      "metadata": {
        "id": "0M9-35rnl0FQ"
      }
    },
    {
      "cell_type": "markdown",
      "source": [
        "**Пример:**\n",
        "\n",
        "\n",
        "---\n",
        "\n"
      ],
      "metadata": {
        "id": "8cUVLJ1wm8aO"
      }
    },
    {
      "cell_type": "markdown",
      "source": [
        "**Ввод:**\\\n",
        "4\\\n",
        "Альберт Эйнштейн\\\n",
        "Альберт Эй-123\\\n",
        "Роман Лоло-456\\\n",
        "Гриша Буквов-111\\\n",
        "Альберт Эйнштейн-777"
      ],
      "metadata": {
        "id": "yMOL6G7KnCSI"
      }
    },
    {
      "cell_type": "markdown",
      "source": [
        "**Вывод:**\\\n",
        "Профессор Эйнштейн - 777"
      ],
      "metadata": {
        "id": "U7F2dm5gnKg8"
      }
    },
    {
      "cell_type": "markdown",
      "source": [
        "**Решение:**"
      ],
      "metadata": {
        "id": "zAmsW-kpnXRo"
      }
    },
    {
      "cell_type": "markdown",
      "source": [
        "\n",
        "\n",
        "---\n",
        "\n",
        "\n",
        "\n",
        "---\n",
        "\n"
      ],
      "metadata": {
        "id": "ptfzq3ocnV6u"
      }
    },
    {
      "cell_type": "code",
      "source": [
        "n=int(input())\n",
        "numbers=dict()\n",
        "sci_name,sci_sur=input().split()\n",
        "for i in range(n):\n",
        "  full_name,phone=input().split(\"-\")\n",
        "  numbers[full_name]=phone\n",
        "for i in numbers.keys():\n",
        "  if sci_sur in i and sci_name in i:\n",
        "    print(\"Профессор\", sci_sur, \"-\", numbers[i])\n",
        "    break"
      ],
      "metadata": {
        "id": "zpbjbyD30nMe"
      },
      "execution_count": null,
      "outputs": []
    }
  ]
}