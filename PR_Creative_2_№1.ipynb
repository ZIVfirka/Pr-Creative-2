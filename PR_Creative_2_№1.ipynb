{
  "nbformat": 4,
  "nbformat_minor": 0,
  "metadata": {
    "colab": {
      "provenance": [],
      "mount_file_id": "1eaPa82casEgMjQAoZsnM_GgWVWiwjEV1",
      "authorship_tag": "ABX9TyOyX3GjNLxWP9WxnWRdqXd4",
      "include_colab_link": true
    },
    "kernelspec": {
      "name": "python3",
      "display_name": "Python 3"
    },
    "language_info": {
      "name": "python"
    }
  },
  "cells": [
    {
      "cell_type": "markdown",
      "metadata": {
        "id": "view-in-github",
        "colab_type": "text"
      },
      "source": [
        "<a href=\"https://colab.research.google.com/github/ZIVfirka/Pr-Creative-2/blob/main/PR_Creative_2_%E2%84%961.ipynb\" target=\"_parent\"><img src=\"https://colab.research.google.com/assets/colab-badge.svg\" alt=\"Open In Colab\"/></a>"
      ]
    },
    {
      "cell_type": "markdown",
      "source": [
        "***Плата за работу временем работы***\n",
        "\n",
        "\n",
        "\n",
        "\n",
        "---\n",
        "\n",
        "\n",
        "\n",
        "---\n",
        "\n"
      ],
      "metadata": {
        "id": "fiOuXI7rOZHL"
      }
    },
    {
      "cell_type": "markdown",
      "source": [
        "Программист # живёт в мире, где за каждый уникальный символ кода программист должен платить Рабочие Часы, причём все символы стоят N Рабочих Часов. Также в мире программиста # вместо переноса строки используют 3 нижних подчёркивания."
      ],
      "metadata": {
        "id": "1QbVkD-UNeiS"
      }
    },
    {
      "cell_type": "markdown",
      "source": [
        "Напишите программу, которая выводит стоимость введённого кода."
      ],
      "metadata": {
        "id": "L-dLcp0eP24F"
      }
    },
    {
      "cell_type": "markdown",
      "source": [
        "**Ввод:** На вход даётся код программиста # и натуральное число N - стоимость каждого символа. Каждая перемнная вводится с новой строки.\\\n",
        "**Вывод:** Ответ на задачу в формате \"Код стоит Z РЧ\""
      ],
      "metadata": {
        "id": "qL5i57JIPL0c"
      }
    },
    {
      "cell_type": "markdown",
      "source": [
        "***Пример 1:***\n",
        "\n",
        "---\n",
        "\n"
      ],
      "metadata": {
        "id": "d57VXl3oS5IP"
      }
    },
    {
      "cell_type": "markdown",
      "source": [
        "**Ввод:**\n",
        "\n",
        "print(\"I hate this rools\")\n",
        "\n",
        "1"
      ],
      "metadata": {
        "id": "mgrcdu_CYj8b"
      }
    },
    {
      "cell_type": "markdown",
      "source": [
        "**Вывод:**\n",
        "\n",
        " Код стоит 16 РЧ"
      ],
      "metadata": {
        "id": "e-kYa8TrP9zW"
      }
    },
    {
      "cell_type": "markdown",
      "source": [
        "***Пример 2:***\n",
        "\n",
        "---\n",
        "\n"
      ],
      "metadata": {
        "id": "SYObxsIfS_cF"
      }
    },
    {
      "cell_type": "markdown",
      "source": [
        "**Ввод:**\n",
        "\n",
        " s=input()___print(len(s))\n",
        "\n",
        " 2"
      ],
      "metadata": {
        "id": "YBi4k_TfWVDe"
      }
    },
    {
      "cell_type": "markdown",
      "source": [
        "**Вывод:**\n",
        "\n",
        "Код стоит 26 РЧ"
      ],
      "metadata": {
        "id": "ztWFqnSeY90K"
      }
    },
    {
      "cell_type": "markdown",
      "source": [
        "\n",
        "\n",
        "---\n",
        "\n",
        "\n",
        "---\n",
        "\n"
      ],
      "metadata": {
        "id": "Om0wxwI5cmpO"
      }
    },
    {
      "cell_type": "markdown",
      "source": [
        "***Решение:***"
      ],
      "metadata": {
        "id": "Y96rJZBocfHX"
      }
    },
    {
      "cell_type": "code",
      "source": [
        "s=input()\n",
        "N=int(input())\n",
        "money=set(i for i in s)\n",
        "print(\"Код стоит\", N*len(money), \"РЧ\")"
      ],
      "metadata": {
        "id": "LDq_uxkbcst0"
      },
      "execution_count": null,
      "outputs": []
    }
  ]
}